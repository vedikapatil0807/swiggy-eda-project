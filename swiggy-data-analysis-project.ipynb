{
 "cells": [
  {
   "cell_type": "code",
   "execution_count": 1,
   "id": "b2d9811b",
   "metadata": {
    "execution": {
     "iopub.execute_input": "2023-10-08T09:08:12.451326Z",
     "iopub.status.busy": "2023-10-08T09:08:12.450832Z",
     "iopub.status.idle": "2023-10-08T09:08:14.362528Z",
     "shell.execute_reply": "2023-10-08T09:08:14.361278Z"
    },
    "papermill": {
     "duration": 1.927448,
     "end_time": "2023-10-08T09:08:14.365505",
     "exception": false,
     "start_time": "2023-10-08T09:08:12.438057",
     "status": "completed"
    },
    "tags": []
   },
   "outputs": [],
   "source": [
    "import pandas as pd\n",
    "import numpy as np\n",
    "import matplotlib.pyplot as plt\n",
    "import seaborn as sns\n"
   ]
  },
  {
   "cell_type": "markdown",
   "id": "912b8c4c",
   "metadata": {
    "papermill": {
     "duration": 0.01025,
     "end_time": "2023-10-08T09:08:14.387907",
     "exception": false,
     "start_time": "2023-10-08T09:08:14.377657",
     "status": "completed"
    },
    "tags": []
   },
   "source": [
    "# Importing libraries"
   ]
  },
  {
   "cell_type": "code",
   "execution_count": 2,
   "id": "5053815d",
   "metadata": {
    "execution": {
     "iopub.execute_input": "2023-10-08T09:08:14.411669Z",
     "iopub.status.busy": "2023-10-08T09:08:14.411201Z",
     "iopub.status.idle": "2023-10-08T09:08:14.417762Z",
     "shell.execute_reply": "2023-10-08T09:08:14.416451Z"
    },
    "papermill": {
     "duration": 0.02091,
     "end_time": "2023-10-08T09:08:14.419907",
     "exception": false,
     "start_time": "2023-10-08T09:08:14.398997",
     "status": "completed"
    },
    "tags": []
   },
   "outputs": [],
   "source": [
    "import matplotlib\n",
    "plt.style.use('ggplot')\n",
    "from matplotlib.pyplot import figure\n",
    "\n",
    "\n",
    "get_ipython().run_line_magic('matplotlib', 'inline')\n",
    "matplotlib.rcParams['figure.figsize'] = (16,8)"
   ]
  },
  {
   "cell_type": "markdown",
   "id": "897a548c",
   "metadata": {
    "papermill": {
     "duration": 0.0103,
     "end_time": "2023-10-08T09:08:14.441088",
     "exception": false,
     "start_time": "2023-10-08T09:08:14.430788",
     "status": "completed"
    },
    "tags": []
   },
   "source": [
    "# setting the size of graphs and style"
   ]
  },
  {
   "cell_type": "code",
   "execution_count": 3,
   "id": "b14ddaa3",
   "metadata": {
    "execution": {
     "iopub.execute_input": "2023-10-08T09:08:14.464598Z",
     "iopub.status.busy": "2023-10-08T09:08:14.464269Z",
     "iopub.status.idle": "2023-10-08T09:08:14.525863Z",
     "shell.execute_reply": "2023-10-08T09:08:14.524850Z"
    },
    "papermill": {
     "duration": 0.077004,
     "end_time": "2023-10-08T09:08:14.528576",
     "exception": false,
     "start_time": "2023-10-08T09:08:14.451572",
     "status": "completed"
    },
    "tags": []
   },
   "outputs": [],
   "source": [
    "df=pd.read_csv(r\"/kaggle/input/swiggy-data-set/swiggy.csv\")"
   ]
  },
  {
   "cell_type": "markdown",
   "id": "dc71b1ec",
   "metadata": {
    "papermill": {
     "duration": 0.011128,
     "end_time": "2023-10-08T09:08:14.550622",
     "exception": false,
     "start_time": "2023-10-08T09:08:14.539494",
     "status": "completed"
    },
    "tags": []
   },
   "source": [
    "# uploading data set"
   ]
  },
  {
   "cell_type": "code",
   "execution_count": 4,
   "id": "d8f2105a",
   "metadata": {
    "execution": {
     "iopub.execute_input": "2023-10-08T09:08:14.574408Z",
     "iopub.status.busy": "2023-10-08T09:08:14.574070Z",
     "iopub.status.idle": "2023-10-08T09:08:14.578126Z",
     "shell.execute_reply": "2023-10-08T09:08:14.577288Z"
    },
    "papermill": {
     "duration": 0.018594,
     "end_time": "2023-10-08T09:08:14.580233",
     "exception": false,
     "start_time": "2023-10-08T09:08:14.561639",
     "status": "completed"
    },
    "tags": []
   },
   "outputs": [],
   "source": [
    "pd.set_option(\"display.max_rows\",10)"
   ]
  },
  {
   "cell_type": "markdown",
   "id": "6876d6ee",
   "metadata": {
    "papermill": {
     "duration": 0.009832,
     "end_time": "2023-10-08T09:08:14.600621",
     "exception": false,
     "start_time": "2023-10-08T09:08:14.590789",
     "status": "completed"
    },
    "tags": []
   },
   "source": [
    "# Setting the option too see only 10 rows of data frame"
   ]
  },
  {
   "cell_type": "code",
   "execution_count": 5,
   "id": "9558f176",
   "metadata": {
    "execution": {
     "iopub.execute_input": "2023-10-08T09:08:14.623053Z",
     "iopub.status.busy": "2023-10-08T09:08:14.622359Z",
     "iopub.status.idle": "2023-10-08T09:08:14.655597Z",
     "shell.execute_reply": "2023-10-08T09:08:14.654847Z"
    },
    "papermill": {
     "duration": 0.046803,
     "end_time": "2023-10-08T09:08:14.657521",
     "exception": false,
     "start_time": "2023-10-08T09:08:14.610718",
     "status": "completed"
    },
    "tags": []
   },
   "outputs": [
    {
     "data": {
      "text/html": [
       "<div>\n",
       "<style scoped>\n",
       "    .dataframe tbody tr th:only-of-type {\n",
       "        vertical-align: middle;\n",
       "    }\n",
       "\n",
       "    .dataframe tbody tr th {\n",
       "        vertical-align: top;\n",
       "    }\n",
       "\n",
       "    .dataframe thead th {\n",
       "        text-align: right;\n",
       "    }\n",
       "</style>\n",
       "<table border=\"1\" class=\"dataframe\">\n",
       "  <thead>\n",
       "    <tr style=\"text-align: right;\">\n",
       "      <th></th>\n",
       "      <th>ID</th>\n",
       "      <th>Area</th>\n",
       "      <th>City</th>\n",
       "      <th>Restaurant</th>\n",
       "      <th>Price</th>\n",
       "      <th>Avg ratings</th>\n",
       "      <th>Total ratings</th>\n",
       "      <th>Food type</th>\n",
       "      <th>Address</th>\n",
       "      <th>Delivery time</th>\n",
       "    </tr>\n",
       "  </thead>\n",
       "  <tbody>\n",
       "    <tr>\n",
       "      <th>0</th>\n",
       "      <td>211</td>\n",
       "      <td>Koramangala</td>\n",
       "      <td>Bangalore</td>\n",
       "      <td>Tandoor Hut</td>\n",
       "      <td>300.0</td>\n",
       "      <td>4.4</td>\n",
       "      <td>100</td>\n",
       "      <td>Biryani,Chinese,North Indian,South Indian</td>\n",
       "      <td>5Th Block</td>\n",
       "      <td>59</td>\n",
       "    </tr>\n",
       "    <tr>\n",
       "      <th>1</th>\n",
       "      <td>221</td>\n",
       "      <td>Koramangala</td>\n",
       "      <td>Bangalore</td>\n",
       "      <td>Tunday Kababi</td>\n",
       "      <td>300.0</td>\n",
       "      <td>4.1</td>\n",
       "      <td>100</td>\n",
       "      <td>Mughlai,Lucknowi</td>\n",
       "      <td>5Th Block</td>\n",
       "      <td>56</td>\n",
       "    </tr>\n",
       "    <tr>\n",
       "      <th>2</th>\n",
       "      <td>246</td>\n",
       "      <td>Jogupalya</td>\n",
       "      <td>Bangalore</td>\n",
       "      <td>Kim Lee</td>\n",
       "      <td>650.0</td>\n",
       "      <td>4.4</td>\n",
       "      <td>100</td>\n",
       "      <td>Chinese</td>\n",
       "      <td>Double Road</td>\n",
       "      <td>50</td>\n",
       "    </tr>\n",
       "    <tr>\n",
       "      <th>3</th>\n",
       "      <td>248</td>\n",
       "      <td>Indiranagar</td>\n",
       "      <td>Bangalore</td>\n",
       "      <td>New Punjabi Hotel</td>\n",
       "      <td>250.0</td>\n",
       "      <td>3.9</td>\n",
       "      <td>500</td>\n",
       "      <td>North Indian,Punjabi,Tandoor,Chinese</td>\n",
       "      <td>80 Feet Road</td>\n",
       "      <td>57</td>\n",
       "    </tr>\n",
       "    <tr>\n",
       "      <th>4</th>\n",
       "      <td>249</td>\n",
       "      <td>Indiranagar</td>\n",
       "      <td>Bangalore</td>\n",
       "      <td>Nh8</td>\n",
       "      <td>350.0</td>\n",
       "      <td>4.0</td>\n",
       "      <td>50</td>\n",
       "      <td>Rajasthani,Gujarati,North Indian,Snacks,Desser...</td>\n",
       "      <td>80 Feet Road</td>\n",
       "      <td>63</td>\n",
       "    </tr>\n",
       "    <tr>\n",
       "      <th>...</th>\n",
       "      <td>...</td>\n",
       "      <td>...</td>\n",
       "      <td>...</td>\n",
       "      <td>...</td>\n",
       "      <td>...</td>\n",
       "      <td>...</td>\n",
       "      <td>...</td>\n",
       "      <td>...</td>\n",
       "      <td>...</td>\n",
       "      <td>...</td>\n",
       "    </tr>\n",
       "    <tr>\n",
       "      <th>8675</th>\n",
       "      <td>464626</td>\n",
       "      <td>Panjarapole Cross Road</td>\n",
       "      <td>Ahmedabad</td>\n",
       "      <td>Malt Pizza</td>\n",
       "      <td>500.0</td>\n",
       "      <td>2.9</td>\n",
       "      <td>80</td>\n",
       "      <td>Pizzas</td>\n",
       "      <td>Navrangpura</td>\n",
       "      <td>40</td>\n",
       "    </tr>\n",
       "    <tr>\n",
       "      <th>8676</th>\n",
       "      <td>465835</td>\n",
       "      <td>Rohini</td>\n",
       "      <td>Delhi</td>\n",
       "      <td>Jay Mata Ji Home Kitchen</td>\n",
       "      <td>200.0</td>\n",
       "      <td>2.9</td>\n",
       "      <td>80</td>\n",
       "      <td>South Indian</td>\n",
       "      <td>Rohini</td>\n",
       "      <td>28</td>\n",
       "    </tr>\n",
       "    <tr>\n",
       "      <th>8677</th>\n",
       "      <td>465872</td>\n",
       "      <td>Rohini</td>\n",
       "      <td>Delhi</td>\n",
       "      <td>Chinese Kitchen King</td>\n",
       "      <td>150.0</td>\n",
       "      <td>2.9</td>\n",
       "      <td>80</td>\n",
       "      <td>Chinese,Snacks,Tandoor</td>\n",
       "      <td>Rohini</td>\n",
       "      <td>58</td>\n",
       "    </tr>\n",
       "    <tr>\n",
       "      <th>8678</th>\n",
       "      <td>465990</td>\n",
       "      <td>Rohini</td>\n",
       "      <td>Delhi</td>\n",
       "      <td>Shree Ram Paratha Wala</td>\n",
       "      <td>150.0</td>\n",
       "      <td>2.9</td>\n",
       "      <td>80</td>\n",
       "      <td>North Indian,Indian,Snacks</td>\n",
       "      <td>Rohini</td>\n",
       "      <td>28</td>\n",
       "    </tr>\n",
       "    <tr>\n",
       "      <th>8679</th>\n",
       "      <td>466488</td>\n",
       "      <td>Navrangpura</td>\n",
       "      <td>Ahmedabad</td>\n",
       "      <td>Sassy Street</td>\n",
       "      <td>250.0</td>\n",
       "      <td>2.9</td>\n",
       "      <td>80</td>\n",
       "      <td>Chaat,Snacks,Chinese</td>\n",
       "      <td>Navrangpura</td>\n",
       "      <td>44</td>\n",
       "    </tr>\n",
       "  </tbody>\n",
       "</table>\n",
       "<p>8680 rows × 10 columns</p>\n",
       "</div>"
      ],
      "text/plain": [
       "          ID                    Area       City                Restaurant  \\\n",
       "0        211             Koramangala  Bangalore               Tandoor Hut   \n",
       "1        221             Koramangala  Bangalore             Tunday Kababi   \n",
       "2        246               Jogupalya  Bangalore                   Kim Lee   \n",
       "3        248             Indiranagar  Bangalore         New Punjabi Hotel   \n",
       "4        249             Indiranagar  Bangalore                       Nh8   \n",
       "...      ...                     ...        ...                       ...   \n",
       "8675  464626  Panjarapole Cross Road  Ahmedabad                Malt Pizza   \n",
       "8676  465835                  Rohini      Delhi  Jay Mata Ji Home Kitchen   \n",
       "8677  465872                  Rohini      Delhi      Chinese Kitchen King   \n",
       "8678  465990                  Rohini      Delhi    Shree Ram Paratha Wala   \n",
       "8679  466488             Navrangpura  Ahmedabad              Sassy Street   \n",
       "\n",
       "      Price  Avg ratings  Total ratings  \\\n",
       "0     300.0          4.4            100   \n",
       "1     300.0          4.1            100   \n",
       "2     650.0          4.4            100   \n",
       "3     250.0          3.9            500   \n",
       "4     350.0          4.0             50   \n",
       "...     ...          ...            ...   \n",
       "8675  500.0          2.9             80   \n",
       "8676  200.0          2.9             80   \n",
       "8677  150.0          2.9             80   \n",
       "8678  150.0          2.9             80   \n",
       "8679  250.0          2.9             80   \n",
       "\n",
       "                                              Food type       Address  \\\n",
       "0             Biryani,Chinese,North Indian,South Indian     5Th Block   \n",
       "1                                      Mughlai,Lucknowi     5Th Block   \n",
       "2                                               Chinese   Double Road   \n",
       "3                  North Indian,Punjabi,Tandoor,Chinese  80 Feet Road   \n",
       "4     Rajasthani,Gujarati,North Indian,Snacks,Desser...  80 Feet Road   \n",
       "...                                                 ...           ...   \n",
       "8675                                             Pizzas   Navrangpura   \n",
       "8676                                       South Indian        Rohini   \n",
       "8677                             Chinese,Snacks,Tandoor        Rohini   \n",
       "8678                         North Indian,Indian,Snacks        Rohini   \n",
       "8679                               Chaat,Snacks,Chinese   Navrangpura   \n",
       "\n",
       "      Delivery time  \n",
       "0                59  \n",
       "1                56  \n",
       "2                50  \n",
       "3                57  \n",
       "4                63  \n",
       "...             ...  \n",
       "8675             40  \n",
       "8676             28  \n",
       "8677             58  \n",
       "8678             28  \n",
       "8679             44  \n",
       "\n",
       "[8680 rows x 10 columns]"
      ]
     },
     "execution_count": 5,
     "metadata": {},
     "output_type": "execute_result"
    }
   ],
   "source": [
    "df"
   ]
  },
  {
   "cell_type": "markdown",
   "id": "16cdee52",
   "metadata": {
    "papermill": {
     "duration": 0.010442,
     "end_time": "2023-10-08T09:08:14.678700",
     "exception": false,
     "start_time": "2023-10-08T09:08:14.668258",
     "status": "completed"
    },
    "tags": []
   },
   "source": [
    "# Data Preprocessing"
   ]
  },
  {
   "cell_type": "code",
   "execution_count": 6,
   "id": "b9a65fb5",
   "metadata": {
    "execution": {
     "iopub.execute_input": "2023-10-08T09:08:14.703272Z",
     "iopub.status.busy": "2023-10-08T09:08:14.702709Z",
     "iopub.status.idle": "2023-10-08T09:08:14.716376Z",
     "shell.execute_reply": "2023-10-08T09:08:14.715568Z"
    },
    "papermill": {
     "duration": 0.028632,
     "end_time": "2023-10-08T09:08:14.718279",
     "exception": false,
     "start_time": "2023-10-08T09:08:14.689647",
     "status": "completed"
    },
    "tags": []
   },
   "outputs": [
    {
     "data": {
      "text/html": [
       "<div>\n",
       "<style scoped>\n",
       "    .dataframe tbody tr th:only-of-type {\n",
       "        vertical-align: middle;\n",
       "    }\n",
       "\n",
       "    .dataframe tbody tr th {\n",
       "        vertical-align: top;\n",
       "    }\n",
       "\n",
       "    .dataframe thead th {\n",
       "        text-align: right;\n",
       "    }\n",
       "</style>\n",
       "<table border=\"1\" class=\"dataframe\">\n",
       "  <thead>\n",
       "    <tr style=\"text-align: right;\">\n",
       "      <th></th>\n",
       "      <th>ID</th>\n",
       "      <th>Area</th>\n",
       "      <th>City</th>\n",
       "      <th>Restaurant</th>\n",
       "      <th>Price</th>\n",
       "      <th>Avg ratings</th>\n",
       "      <th>Total ratings</th>\n",
       "      <th>Food type</th>\n",
       "      <th>Address</th>\n",
       "      <th>Delivery time</th>\n",
       "    </tr>\n",
       "  </thead>\n",
       "  <tbody>\n",
       "    <tr>\n",
       "      <th>0</th>\n",
       "      <td>211</td>\n",
       "      <td>Koramangala</td>\n",
       "      <td>Bangalore</td>\n",
       "      <td>Tandoor Hut</td>\n",
       "      <td>300.0</td>\n",
       "      <td>4.4</td>\n",
       "      <td>100</td>\n",
       "      <td>Biryani,Chinese,North Indian,South Indian</td>\n",
       "      <td>5Th Block</td>\n",
       "      <td>59</td>\n",
       "    </tr>\n",
       "    <tr>\n",
       "      <th>1</th>\n",
       "      <td>221</td>\n",
       "      <td>Koramangala</td>\n",
       "      <td>Bangalore</td>\n",
       "      <td>Tunday Kababi</td>\n",
       "      <td>300.0</td>\n",
       "      <td>4.1</td>\n",
       "      <td>100</td>\n",
       "      <td>Mughlai,Lucknowi</td>\n",
       "      <td>5Th Block</td>\n",
       "      <td>56</td>\n",
       "    </tr>\n",
       "    <tr>\n",
       "      <th>2</th>\n",
       "      <td>246</td>\n",
       "      <td>Jogupalya</td>\n",
       "      <td>Bangalore</td>\n",
       "      <td>Kim Lee</td>\n",
       "      <td>650.0</td>\n",
       "      <td>4.4</td>\n",
       "      <td>100</td>\n",
       "      <td>Chinese</td>\n",
       "      <td>Double Road</td>\n",
       "      <td>50</td>\n",
       "    </tr>\n",
       "    <tr>\n",
       "      <th>3</th>\n",
       "      <td>248</td>\n",
       "      <td>Indiranagar</td>\n",
       "      <td>Bangalore</td>\n",
       "      <td>New Punjabi Hotel</td>\n",
       "      <td>250.0</td>\n",
       "      <td>3.9</td>\n",
       "      <td>500</td>\n",
       "      <td>North Indian,Punjabi,Tandoor,Chinese</td>\n",
       "      <td>80 Feet Road</td>\n",
       "      <td>57</td>\n",
       "    </tr>\n",
       "    <tr>\n",
       "      <th>4</th>\n",
       "      <td>249</td>\n",
       "      <td>Indiranagar</td>\n",
       "      <td>Bangalore</td>\n",
       "      <td>Nh8</td>\n",
       "      <td>350.0</td>\n",
       "      <td>4.0</td>\n",
       "      <td>50</td>\n",
       "      <td>Rajasthani,Gujarati,North Indian,Snacks,Desser...</td>\n",
       "      <td>80 Feet Road</td>\n",
       "      <td>63</td>\n",
       "    </tr>\n",
       "  </tbody>\n",
       "</table>\n",
       "</div>"
      ],
      "text/plain": [
       "    ID         Area       City         Restaurant  Price  Avg ratings  \\\n",
       "0  211  Koramangala  Bangalore        Tandoor Hut  300.0          4.4   \n",
       "1  221  Koramangala  Bangalore      Tunday Kababi  300.0          4.1   \n",
       "2  246    Jogupalya  Bangalore            Kim Lee  650.0          4.4   \n",
       "3  248  Indiranagar  Bangalore  New Punjabi Hotel  250.0          3.9   \n",
       "4  249  Indiranagar  Bangalore                Nh8  350.0          4.0   \n",
       "\n",
       "   Total ratings                                          Food type  \\\n",
       "0            100          Biryani,Chinese,North Indian,South Indian   \n",
       "1            100                                   Mughlai,Lucknowi   \n",
       "2            100                                            Chinese   \n",
       "3            500               North Indian,Punjabi,Tandoor,Chinese   \n",
       "4             50  Rajasthani,Gujarati,North Indian,Snacks,Desser...   \n",
       "\n",
       "        Address  Delivery time  \n",
       "0     5Th Block             59  \n",
       "1     5Th Block             56  \n",
       "2   Double Road             50  \n",
       "3  80 Feet Road             57  \n",
       "4  80 Feet Road             63  "
      ]
     },
     "execution_count": 6,
     "metadata": {},
     "output_type": "execute_result"
    }
   ],
   "source": [
    "df.head()"
   ]
  },
  {
   "cell_type": "markdown",
   "id": "8f04b7a3",
   "metadata": {
    "papermill": {
     "duration": 0.010919,
     "end_time": "2023-10-08T09:08:14.800217",
     "exception": false,
     "start_time": "2023-10-08T09:08:14.789298",
     "status": "completed"
    },
    "tags": []
   },
   "source": [
    "# shows first 5 rows in data set by default"
   ]
  },
  {
   "cell_type": "code",
   "execution_count": 7,
   "id": "1a2e69c3",
   "metadata": {
    "execution": {
     "iopub.execute_input": "2023-10-08T09:08:14.825197Z",
     "iopub.status.busy": "2023-10-08T09:08:14.824168Z",
     "iopub.status.idle": "2023-10-08T09:08:14.839358Z",
     "shell.execute_reply": "2023-10-08T09:08:14.838036Z"
    },
    "papermill": {
     "duration": 0.030055,
     "end_time": "2023-10-08T09:08:14.841538",
     "exception": false,
     "start_time": "2023-10-08T09:08:14.811483",
     "status": "completed"
    },
    "tags": []
   },
   "outputs": [
    {
     "data": {
      "text/html": [
       "<div>\n",
       "<style scoped>\n",
       "    .dataframe tbody tr th:only-of-type {\n",
       "        vertical-align: middle;\n",
       "    }\n",
       "\n",
       "    .dataframe tbody tr th {\n",
       "        vertical-align: top;\n",
       "    }\n",
       "\n",
       "    .dataframe thead th {\n",
       "        text-align: right;\n",
       "    }\n",
       "</style>\n",
       "<table border=\"1\" class=\"dataframe\">\n",
       "  <thead>\n",
       "    <tr style=\"text-align: right;\">\n",
       "      <th></th>\n",
       "      <th>ID</th>\n",
       "      <th>Area</th>\n",
       "      <th>City</th>\n",
       "      <th>Restaurant</th>\n",
       "      <th>Price</th>\n",
       "      <th>Avg ratings</th>\n",
       "      <th>Total ratings</th>\n",
       "      <th>Food type</th>\n",
       "      <th>Address</th>\n",
       "      <th>Delivery time</th>\n",
       "    </tr>\n",
       "  </thead>\n",
       "  <tbody>\n",
       "    <tr>\n",
       "      <th>8675</th>\n",
       "      <td>464626</td>\n",
       "      <td>Panjarapole Cross Road</td>\n",
       "      <td>Ahmedabad</td>\n",
       "      <td>Malt Pizza</td>\n",
       "      <td>500.0</td>\n",
       "      <td>2.9</td>\n",
       "      <td>80</td>\n",
       "      <td>Pizzas</td>\n",
       "      <td>Navrangpura</td>\n",
       "      <td>40</td>\n",
       "    </tr>\n",
       "    <tr>\n",
       "      <th>8676</th>\n",
       "      <td>465835</td>\n",
       "      <td>Rohini</td>\n",
       "      <td>Delhi</td>\n",
       "      <td>Jay Mata Ji Home Kitchen</td>\n",
       "      <td>200.0</td>\n",
       "      <td>2.9</td>\n",
       "      <td>80</td>\n",
       "      <td>South Indian</td>\n",
       "      <td>Rohini</td>\n",
       "      <td>28</td>\n",
       "    </tr>\n",
       "    <tr>\n",
       "      <th>8677</th>\n",
       "      <td>465872</td>\n",
       "      <td>Rohini</td>\n",
       "      <td>Delhi</td>\n",
       "      <td>Chinese Kitchen King</td>\n",
       "      <td>150.0</td>\n",
       "      <td>2.9</td>\n",
       "      <td>80</td>\n",
       "      <td>Chinese,Snacks,Tandoor</td>\n",
       "      <td>Rohini</td>\n",
       "      <td>58</td>\n",
       "    </tr>\n",
       "    <tr>\n",
       "      <th>8678</th>\n",
       "      <td>465990</td>\n",
       "      <td>Rohini</td>\n",
       "      <td>Delhi</td>\n",
       "      <td>Shree Ram Paratha Wala</td>\n",
       "      <td>150.0</td>\n",
       "      <td>2.9</td>\n",
       "      <td>80</td>\n",
       "      <td>North Indian,Indian,Snacks</td>\n",
       "      <td>Rohini</td>\n",
       "      <td>28</td>\n",
       "    </tr>\n",
       "    <tr>\n",
       "      <th>8679</th>\n",
       "      <td>466488</td>\n",
       "      <td>Navrangpura</td>\n",
       "      <td>Ahmedabad</td>\n",
       "      <td>Sassy Street</td>\n",
       "      <td>250.0</td>\n",
       "      <td>2.9</td>\n",
       "      <td>80</td>\n",
       "      <td>Chaat,Snacks,Chinese</td>\n",
       "      <td>Navrangpura</td>\n",
       "      <td>44</td>\n",
       "    </tr>\n",
       "  </tbody>\n",
       "</table>\n",
       "</div>"
      ],
      "text/plain": [
       "          ID                    Area       City                Restaurant  \\\n",
       "8675  464626  Panjarapole Cross Road  Ahmedabad                Malt Pizza   \n",
       "8676  465835                  Rohini      Delhi  Jay Mata Ji Home Kitchen   \n",
       "8677  465872                  Rohini      Delhi      Chinese Kitchen King   \n",
       "8678  465990                  Rohini      Delhi    Shree Ram Paratha Wala   \n",
       "8679  466488             Navrangpura  Ahmedabad              Sassy Street   \n",
       "\n",
       "      Price  Avg ratings  Total ratings                   Food type  \\\n",
       "8675  500.0          2.9             80                      Pizzas   \n",
       "8676  200.0          2.9             80                South Indian   \n",
       "8677  150.0          2.9             80      Chinese,Snacks,Tandoor   \n",
       "8678  150.0          2.9             80  North Indian,Indian,Snacks   \n",
       "8679  250.0          2.9             80        Chaat,Snacks,Chinese   \n",
       "\n",
       "          Address  Delivery time  \n",
       "8675  Navrangpura             40  \n",
       "8676       Rohini             28  \n",
       "8677       Rohini             58  \n",
       "8678       Rohini             28  \n",
       "8679  Navrangpura             44  "
      ]
     },
     "execution_count": 7,
     "metadata": {},
     "output_type": "execute_result"
    }
   ],
   "source": [
    "df.tail()"
   ]
  },
  {
   "cell_type": "markdown",
   "id": "1f2979dc",
   "metadata": {
    "papermill": {
     "duration": 0.010975,
     "end_time": "2023-10-08T09:08:14.863875",
     "exception": false,
     "start_time": "2023-10-08T09:08:14.852900",
     "status": "completed"
    },
    "tags": []
   },
   "source": [
    "# shows last 5 rows in data set by default"
   ]
  },
  {
   "cell_type": "code",
   "execution_count": 8,
   "id": "49cc53db",
   "metadata": {
    "execution": {
     "iopub.execute_input": "2023-10-08T09:08:14.888671Z",
     "iopub.status.busy": "2023-10-08T09:08:14.888291Z",
     "iopub.status.idle": "2023-10-08T09:08:14.896378Z",
     "shell.execute_reply": "2023-10-08T09:08:14.895216Z"
    },
    "papermill": {
     "duration": 0.023154,
     "end_time": "2023-10-08T09:08:14.898248",
     "exception": false,
     "start_time": "2023-10-08T09:08:14.875094",
     "status": "completed"
    },
    "tags": []
   },
   "outputs": [
    {
     "data": {
      "text/plain": [
       "ID                 int64\n",
       "Area              object\n",
       "City              object\n",
       "Restaurant        object\n",
       "Price            float64\n",
       "Avg ratings      float64\n",
       "Total ratings      int64\n",
       "Food type         object\n",
       "Address           object\n",
       "Delivery time      int64\n",
       "dtype: object"
      ]
     },
     "execution_count": 8,
     "metadata": {},
     "output_type": "execute_result"
    }
   ],
   "source": [
    "df.dtypes"
   ]
  },
  {
   "cell_type": "markdown",
   "id": "735f67d1",
   "metadata": {
    "papermill": {
     "duration": 0.01111,
     "end_time": "2023-10-08T09:08:14.920641",
     "exception": false,
     "start_time": "2023-10-08T09:08:14.909531",
     "status": "completed"
    },
    "tags": []
   },
   "source": [
    "# shows the data type of each column"
   ]
  },
  {
   "cell_type": "code",
   "execution_count": 9,
   "id": "c3ff3b2d",
   "metadata": {
    "execution": {
     "iopub.execute_input": "2023-10-08T09:08:14.945265Z",
     "iopub.status.busy": "2023-10-08T09:08:14.944816Z",
     "iopub.status.idle": "2023-10-08T09:08:14.951324Z",
     "shell.execute_reply": "2023-10-08T09:08:14.950160Z"
    },
    "papermill": {
     "duration": 0.021559,
     "end_time": "2023-10-08T09:08:14.953443",
     "exception": false,
     "start_time": "2023-10-08T09:08:14.931884",
     "status": "completed"
    },
    "tags": []
   },
   "outputs": [
    {
     "data": {
      "text/plain": [
       "(8680, 10)"
      ]
     },
     "execution_count": 9,
     "metadata": {},
     "output_type": "execute_result"
    }
   ],
   "source": [
    "df.shape"
   ]
  },
  {
   "cell_type": "markdown",
   "id": "cf522f67",
   "metadata": {
    "papermill": {
     "duration": 0.011241,
     "end_time": "2023-10-08T09:08:14.977032",
     "exception": false,
     "start_time": "2023-10-08T09:08:14.965791",
     "status": "completed"
    },
    "tags": []
   },
   "source": [
    "# shows total no. of rows and columns in data set"
   ]
  },
  {
   "cell_type": "code",
   "execution_count": 10,
   "id": "7c74b07d",
   "metadata": {
    "execution": {
     "iopub.execute_input": "2023-10-08T09:08:15.002606Z",
     "iopub.status.busy": "2023-10-08T09:08:15.002225Z",
     "iopub.status.idle": "2023-10-08T09:08:15.009364Z",
     "shell.execute_reply": "2023-10-08T09:08:15.008256Z"
    },
    "papermill": {
     "duration": 0.0223,
     "end_time": "2023-10-08T09:08:15.011387",
     "exception": false,
     "start_time": "2023-10-08T09:08:14.989087",
     "status": "completed"
    },
    "tags": []
   },
   "outputs": [
    {
     "data": {
      "text/plain": [
       "Index(['ID', 'Area', 'City', 'Restaurant', 'Price', 'Avg ratings',\n",
       "       'Total ratings', 'Food type', 'Address', 'Delivery time'],\n",
       "      dtype='object')"
      ]
     },
     "execution_count": 10,
     "metadata": {},
     "output_type": "execute_result"
    }
   ],
   "source": [
    "df.columns"
   ]
  },
  {
   "cell_type": "markdown",
   "id": "89ce723a",
   "metadata": {
    "papermill": {
     "duration": 0.011023,
     "end_time": "2023-10-08T09:08:15.033786",
     "exception": false,
     "start_time": "2023-10-08T09:08:15.022763",
     "status": "completed"
    },
    "tags": []
   },
   "source": [
    "# shows no. of each column"
   ]
  },
  {
   "cell_type": "code",
   "execution_count": 11,
   "id": "24632096",
   "metadata": {
    "execution": {
     "iopub.execute_input": "2023-10-08T09:08:15.058274Z",
     "iopub.status.busy": "2023-10-08T09:08:15.057828Z",
     "iopub.status.idle": "2023-10-08T09:08:15.080014Z",
     "shell.execute_reply": "2023-10-08T09:08:15.078981Z"
    },
    "papermill": {
     "duration": 0.037168,
     "end_time": "2023-10-08T09:08:15.082195",
     "exception": false,
     "start_time": "2023-10-08T09:08:15.045027",
     "status": "completed"
    },
    "tags": []
   },
   "outputs": [
    {
     "data": {
      "text/plain": [
       "ID               8680\n",
       "Area              833\n",
       "City                9\n",
       "Restaurant       7865\n",
       "Price             120\n",
       "Avg ratings        30\n",
       "Total ratings       8\n",
       "Food type        3734\n",
       "Address          2339\n",
       "Delivery time      81\n",
       "dtype: int64"
      ]
     },
     "execution_count": 11,
     "metadata": {},
     "output_type": "execute_result"
    }
   ],
   "source": [
    "df.nunique()"
   ]
  },
  {
   "cell_type": "markdown",
   "id": "0363b505",
   "metadata": {
    "papermill": {
     "duration": 0.011294,
     "end_time": "2023-10-08T09:08:15.105265",
     "exception": false,
     "start_time": "2023-10-08T09:08:15.093971",
     "status": "completed"
    },
    "tags": []
   },
   "source": [
    "# shows the total no. of unique value from in data frame"
   ]
  },
  {
   "cell_type": "code",
   "execution_count": 12,
   "id": "c5e5d508",
   "metadata": {
    "execution": {
     "iopub.execute_input": "2023-10-08T09:08:15.130799Z",
     "iopub.status.busy": "2023-10-08T09:08:15.129582Z",
     "iopub.status.idle": "2023-10-08T09:08:15.137858Z",
     "shell.execute_reply": "2023-10-08T09:08:15.136752Z"
    },
    "papermill": {
     "duration": 0.023004,
     "end_time": "2023-10-08T09:08:15.139789",
     "exception": false,
     "start_time": "2023-10-08T09:08:15.116785",
     "status": "completed"
    },
    "tags": []
   },
   "outputs": [
    {
     "data": {
      "text/plain": [
       "array(['Bangalore', 'Hyderabad', 'Mumbai', 'Pune', 'Kolkata', 'Delhi',\n",
       "       'Chennai', 'Ahmedabad', 'Surat'], dtype=object)"
      ]
     },
     "execution_count": 12,
     "metadata": {},
     "output_type": "execute_result"
    }
   ],
   "source": [
    "cities=df[\"City\"].unique()\n",
    "cities"
   ]
  },
  {
   "cell_type": "markdown",
   "id": "27464069",
   "metadata": {
    "papermill": {
     "duration": 0.011438,
     "end_time": "2023-10-08T09:08:15.162904",
     "exception": false,
     "start_time": "2023-10-08T09:08:15.151466",
     "status": "completed"
    },
    "tags": []
   },
   "source": [
    "# used to see different cities in the data frame"
   ]
  },
  {
   "cell_type": "code",
   "execution_count": 13,
   "id": "9043cb8b",
   "metadata": {
    "execution": {
     "iopub.execute_input": "2023-10-08T09:08:15.187630Z",
     "iopub.status.busy": "2023-10-08T09:08:15.187306Z",
     "iopub.status.idle": "2023-10-08T09:08:15.195694Z",
     "shell.execute_reply": "2023-10-08T09:08:15.194468Z"
    },
    "papermill": {
     "duration": 0.023459,
     "end_time": "2023-10-08T09:08:15.197970",
     "exception": false,
     "start_time": "2023-10-08T09:08:15.174511",
     "status": "completed"
    },
    "tags": []
   },
   "outputs": [
    {
     "data": {
      "text/plain": [
       "3734"
      ]
     },
     "execution_count": 13,
     "metadata": {},
     "output_type": "execute_result"
    }
   ],
   "source": [
    "food_type_count=df[\"Food type\"].nunique()\n",
    "food_type_count"
   ]
  },
  {
   "cell_type": "markdown",
   "id": "945ff62f",
   "metadata": {
    "papermill": {
     "duration": 0.012489,
     "end_time": "2023-10-08T09:08:15.223334",
     "exception": false,
     "start_time": "2023-10-08T09:08:15.210845",
     "status": "completed"
    },
    "tags": []
   },
   "source": [
    "# total no. of different food types"
   ]
  },
  {
   "cell_type": "code",
   "execution_count": 14,
   "id": "0409f016",
   "metadata": {
    "execution": {
     "iopub.execute_input": "2023-10-08T09:08:15.250008Z",
     "iopub.status.busy": "2023-10-08T09:08:15.248915Z",
     "iopub.status.idle": "2023-10-08T09:08:15.258115Z",
     "shell.execute_reply": "2023-10-08T09:08:15.256955Z"
    },
    "papermill": {
     "duration": 0.024547,
     "end_time": "2023-10-08T09:08:15.260092",
     "exception": false,
     "start_time": "2023-10-08T09:08:15.235545",
     "status": "completed"
    },
    "tags": []
   },
   "outputs": [
    {
     "data": {
      "text/plain": [
       "array(['Biryani,Chinese,North Indian,South Indian', 'Mughlai,Lucknowi',\n",
       "       'Chinese', ..., 'Chinese,Snacks,Tandoor',\n",
       "       'North Indian,Indian,Snacks', 'Chaat,Snacks,Chinese'], dtype=object)"
      ]
     },
     "execution_count": 14,
     "metadata": {},
     "output_type": "execute_result"
    }
   ],
   "source": [
    "food_type_name=df[\"Food type\"].unique()\n",
    "food_type_name"
   ]
  },
  {
   "cell_type": "markdown",
   "id": "ccdceabc",
   "metadata": {
    "papermill": {
     "duration": 0.012318,
     "end_time": "2023-10-08T09:08:15.285345",
     "exception": false,
     "start_time": "2023-10-08T09:08:15.273027",
     "status": "completed"
    },
    "tags": []
   },
   "source": [
    "# the names of all the different food types"
   ]
  },
  {
   "cell_type": "code",
   "execution_count": 15,
   "id": "fbe03d3b",
   "metadata": {
    "execution": {
     "iopub.execute_input": "2023-10-08T09:08:15.312655Z",
     "iopub.status.busy": "2023-10-08T09:08:15.312274Z",
     "iopub.status.idle": "2023-10-08T09:08:15.340471Z",
     "shell.execute_reply": "2023-10-08T09:08:15.339219Z"
    },
    "papermill": {
     "duration": 0.045179,
     "end_time": "2023-10-08T09:08:15.342727",
     "exception": false,
     "start_time": "2023-10-08T09:08:15.297548",
     "status": "completed"
    },
    "tags": []
   },
   "outputs": [
    {
     "data": {
      "text/html": [
       "<div>\n",
       "<style scoped>\n",
       "    .dataframe tbody tr th:only-of-type {\n",
       "        vertical-align: middle;\n",
       "    }\n",
       "\n",
       "    .dataframe tbody tr th {\n",
       "        vertical-align: top;\n",
       "    }\n",
       "\n",
       "    .dataframe thead th {\n",
       "        text-align: right;\n",
       "    }\n",
       "</style>\n",
       "<table border=\"1\" class=\"dataframe\">\n",
       "  <thead>\n",
       "    <tr style=\"text-align: right;\">\n",
       "      <th></th>\n",
       "      <th>ID</th>\n",
       "      <th>Price</th>\n",
       "      <th>Avg ratings</th>\n",
       "      <th>Total ratings</th>\n",
       "      <th>Delivery time</th>\n",
       "    </tr>\n",
       "  </thead>\n",
       "  <tbody>\n",
       "    <tr>\n",
       "      <th>count</th>\n",
       "      <td>8680.000000</td>\n",
       "      <td>8680.000000</td>\n",
       "      <td>8680.000000</td>\n",
       "      <td>8680.000000</td>\n",
       "      <td>8680.000000</td>\n",
       "    </tr>\n",
       "    <tr>\n",
       "      <th>mean</th>\n",
       "      <td>244812.071429</td>\n",
       "      <td>348.444470</td>\n",
       "      <td>3.655104</td>\n",
       "      <td>156.634793</td>\n",
       "      <td>53.967051</td>\n",
       "    </tr>\n",
       "    <tr>\n",
       "      <th>std</th>\n",
       "      <td>158671.617188</td>\n",
       "      <td>230.940074</td>\n",
       "      <td>0.647629</td>\n",
       "      <td>391.448014</td>\n",
       "      <td>14.292335</td>\n",
       "    </tr>\n",
       "    <tr>\n",
       "      <th>min</th>\n",
       "      <td>211.000000</td>\n",
       "      <td>0.000000</td>\n",
       "      <td>2.000000</td>\n",
       "      <td>20.000000</td>\n",
       "      <td>20.000000</td>\n",
       "    </tr>\n",
       "    <tr>\n",
       "      <th>25%</th>\n",
       "      <td>72664.000000</td>\n",
       "      <td>200.000000</td>\n",
       "      <td>2.900000</td>\n",
       "      <td>50.000000</td>\n",
       "      <td>44.000000</td>\n",
       "    </tr>\n",
       "    <tr>\n",
       "      <th>50%</th>\n",
       "      <td>283442.000000</td>\n",
       "      <td>300.000000</td>\n",
       "      <td>3.900000</td>\n",
       "      <td>80.000000</td>\n",
       "      <td>53.000000</td>\n",
       "    </tr>\n",
       "    <tr>\n",
       "      <th>75%</th>\n",
       "      <td>393425.250000</td>\n",
       "      <td>400.000000</td>\n",
       "      <td>4.200000</td>\n",
       "      <td>100.000000</td>\n",
       "      <td>64.000000</td>\n",
       "    </tr>\n",
       "    <tr>\n",
       "      <th>max</th>\n",
       "      <td>466928.000000</td>\n",
       "      <td>2500.000000</td>\n",
       "      <td>5.000000</td>\n",
       "      <td>10000.000000</td>\n",
       "      <td>109.000000</td>\n",
       "    </tr>\n",
       "  </tbody>\n",
       "</table>\n",
       "</div>"
      ],
      "text/plain": [
       "                  ID        Price  Avg ratings  Total ratings  Delivery time\n",
       "count    8680.000000  8680.000000  8680.000000    8680.000000    8680.000000\n",
       "mean   244812.071429   348.444470     3.655104     156.634793      53.967051\n",
       "std    158671.617188   230.940074     0.647629     391.448014      14.292335\n",
       "min       211.000000     0.000000     2.000000      20.000000      20.000000\n",
       "25%     72664.000000   200.000000     2.900000      50.000000      44.000000\n",
       "50%    283442.000000   300.000000     3.900000      80.000000      53.000000\n",
       "75%    393425.250000   400.000000     4.200000     100.000000      64.000000\n",
       "max    466928.000000  2500.000000     5.000000   10000.000000     109.000000"
      ]
     },
     "execution_count": 15,
     "metadata": {},
     "output_type": "execute_result"
    }
   ],
   "source": [
    "df.describe()"
   ]
  },
  {
   "cell_type": "markdown",
   "id": "cc0170c1",
   "metadata": {
    "papermill": {
     "duration": 0.012109,
     "end_time": "2023-10-08T09:08:15.367471",
     "exception": false,
     "start_time": "2023-10-08T09:08:15.355362",
     "status": "completed"
    },
    "tags": []
   },
   "source": [
    "# shows immediate mean,min, max etc. of data frame"
   ]
  },
  {
   "cell_type": "code",
   "execution_count": 16,
   "id": "17650295",
   "metadata": {
    "execution": {
     "iopub.execute_input": "2023-10-08T09:08:15.394839Z",
     "iopub.status.busy": "2023-10-08T09:08:15.394461Z",
     "iopub.status.idle": "2023-10-08T09:08:15.405041Z",
     "shell.execute_reply": "2023-10-08T09:08:15.403990Z"
    },
    "papermill": {
     "duration": 0.027207,
     "end_time": "2023-10-08T09:08:15.407185",
     "exception": false,
     "start_time": "2023-10-08T09:08:15.379978",
     "status": "completed"
    },
    "tags": []
   },
   "outputs": [
    {
     "data": {
      "text/plain": [
       "ID               0\n",
       "Area             0\n",
       "City             0\n",
       "Restaurant       0\n",
       "Price            0\n",
       "Avg ratings      0\n",
       "Total ratings    0\n",
       "Food type        0\n",
       "Address          0\n",
       "Delivery time    0\n",
       "dtype: int64"
      ]
     },
     "execution_count": 16,
     "metadata": {},
     "output_type": "execute_result"
    }
   ],
   "source": [
    "df.isnull().sum()"
   ]
  },
  {
   "cell_type": "markdown",
   "id": "58d3a094",
   "metadata": {
    "papermill": {
     "duration": 0.012197,
     "end_time": "2023-10-08T09:08:15.432066",
     "exception": false,
     "start_time": "2023-10-08T09:08:15.419869",
     "status": "completed"
    },
    "tags": []
   },
   "source": [
    "# shows total null values"
   ]
  },
  {
   "cell_type": "code",
   "execution_count": 17,
   "id": "ed580105",
   "metadata": {
    "execution": {
     "iopub.execute_input": "2023-10-08T09:08:15.460148Z",
     "iopub.status.busy": "2023-10-08T09:08:15.459734Z",
     "iopub.status.idle": "2023-10-08T09:08:15.482016Z",
     "shell.execute_reply": "2023-10-08T09:08:15.480988Z"
    },
    "papermill": {
     "duration": 0.039791,
     "end_time": "2023-10-08T09:08:15.484433",
     "exception": false,
     "start_time": "2023-10-08T09:08:15.444642",
     "status": "completed"
    },
    "tags": []
   },
   "outputs": [
    {
     "name": "stdout",
     "output_type": "stream",
     "text": [
      "<class 'pandas.core.frame.DataFrame'>\n",
      "RangeIndex: 8680 entries, 0 to 8679\n",
      "Data columns (total 10 columns):\n",
      " #   Column         Non-Null Count  Dtype  \n",
      "---  ------         --------------  -----  \n",
      " 0   ID             8680 non-null   int64  \n",
      " 1   Area           8680 non-null   object \n",
      " 2   City           8680 non-null   object \n",
      " 3   Restaurant     8680 non-null   object \n",
      " 4   Price          8680 non-null   float64\n",
      " 5   Avg ratings    8680 non-null   float64\n",
      " 6   Total ratings  8680 non-null   int64  \n",
      " 7   Food type      8680 non-null   object \n",
      " 8   Address        8680 non-null   object \n",
      " 9   Delivery time  8680 non-null   int64  \n",
      "dtypes: float64(2), int64(3), object(5)\n",
      "memory usage: 678.2+ KB\n"
     ]
    }
   ],
   "source": [
    "df.info()"
   ]
  },
  {
   "cell_type": "markdown",
   "id": "8d4dab33",
   "metadata": {
    "papermill": {
     "duration": 0.012601,
     "end_time": "2023-10-08T09:08:15.510152",
     "exception": false,
     "start_time": "2023-10-08T09:08:15.497551",
     "status": "completed"
    },
    "tags": []
   },
   "source": [
    "# basic info about the data frame"
   ]
  },
  {
   "cell_type": "code",
   "execution_count": 18,
   "id": "89db40a0",
   "metadata": {
    "execution": {
     "iopub.execute_input": "2023-10-08T09:08:15.537428Z",
     "iopub.status.busy": "2023-10-08T09:08:15.537091Z",
     "iopub.status.idle": "2023-10-08T09:08:15.558129Z",
     "shell.execute_reply": "2023-10-08T09:08:15.556820Z"
    },
    "papermill": {
     "duration": 0.037275,
     "end_time": "2023-10-08T09:08:15.560380",
     "exception": false,
     "start_time": "2023-10-08T09:08:15.523105",
     "status": "completed"
    },
    "tags": []
   },
   "outputs": [
    {
     "data": {
      "text/html": [
       "<div>\n",
       "<style scoped>\n",
       "    .dataframe tbody tr th:only-of-type {\n",
       "        vertical-align: middle;\n",
       "    }\n",
       "\n",
       "    .dataframe tbody tr th {\n",
       "        vertical-align: top;\n",
       "    }\n",
       "\n",
       "    .dataframe thead th {\n",
       "        text-align: right;\n",
       "    }\n",
       "</style>\n",
       "<table border=\"1\" class=\"dataframe\">\n",
       "  <thead>\n",
       "    <tr style=\"text-align: right;\">\n",
       "      <th></th>\n",
       "      <th>ID</th>\n",
       "      <th>Area</th>\n",
       "      <th>City</th>\n",
       "      <th>Restaurant</th>\n",
       "      <th>Price</th>\n",
       "      <th>Avg ratings</th>\n",
       "      <th>Total ratings</th>\n",
       "      <th>Food type</th>\n",
       "      <th>Address</th>\n",
       "      <th>Delivery time</th>\n",
       "    </tr>\n",
       "  </thead>\n",
       "  <tbody>\n",
       "  </tbody>\n",
       "</table>\n",
       "</div>"
      ],
      "text/plain": [
       "Empty DataFrame\n",
       "Columns: [ID, Area, City, Restaurant, Price, Avg ratings, Total ratings, Food type, Address, Delivery time]\n",
       "Index: []"
      ]
     },
     "execution_count": 18,
     "metadata": {},
     "output_type": "execute_result"
    }
   ],
   "source": [
    "df[df.duplicated()]"
   ]
  },
  {
   "cell_type": "markdown",
   "id": "130a6c80",
   "metadata": {
    "papermill": {
     "duration": 0.017956,
     "end_time": "2023-10-08T09:08:15.591722",
     "exception": false,
     "start_time": "2023-10-08T09:08:15.573766",
     "status": "completed"
    },
    "tags": []
   },
   "source": [
    "# to see if there is any duplicate"
   ]
  },
  {
   "cell_type": "code",
   "execution_count": 19,
   "id": "d4e307a5",
   "metadata": {
    "execution": {
     "iopub.execute_input": "2023-10-08T09:08:15.620401Z",
     "iopub.status.busy": "2023-10-08T09:08:15.620010Z",
     "iopub.status.idle": "2023-10-08T09:08:15.635026Z",
     "shell.execute_reply": "2023-10-08T09:08:15.633855Z"
    },
    "papermill": {
     "duration": 0.032373,
     "end_time": "2023-10-08T09:08:15.637617",
     "exception": false,
     "start_time": "2023-10-08T09:08:15.605244",
     "status": "completed"
    },
    "tags": []
   },
   "outputs": [],
   "source": [
    "df=df.drop_duplicates()"
   ]
  },
  {
   "cell_type": "markdown",
   "id": "5ccd9150",
   "metadata": {
    "papermill": {
     "duration": 0.012137,
     "end_time": "2023-10-08T09:08:15.662624",
     "exception": false,
     "start_time": "2023-10-08T09:08:15.650487",
     "status": "completed"
    },
    "tags": []
   },
   "source": [
    "# dropping duplicates"
   ]
  },
  {
   "cell_type": "code",
   "execution_count": 20,
   "id": "b179faeb",
   "metadata": {
    "execution": {
     "iopub.execute_input": "2023-10-08T09:08:15.689315Z",
     "iopub.status.busy": "2023-10-08T09:08:15.688867Z",
     "iopub.status.idle": "2023-10-08T09:08:15.699398Z",
     "shell.execute_reply": "2023-10-08T09:08:15.698326Z"
    },
    "papermill": {
     "duration": 0.026517,
     "end_time": "2023-10-08T09:08:15.701391",
     "exception": false,
     "start_time": "2023-10-08T09:08:15.674874",
     "status": "completed"
    },
    "tags": []
   },
   "outputs": [
    {
     "data": {
      "text/plain": [
       "City\n",
       "Kolkata      1346\n",
       "Mumbai       1277\n",
       "Chennai      1106\n",
       "Pune         1090\n",
       "Hyderabad    1075\n",
       "Bangalore     946\n",
       "Ahmedabad     717\n",
       "Delhi         611\n",
       "Surat         512\n",
       "Name: count, dtype: int64"
      ]
     },
     "execution_count": 20,
     "metadata": {},
     "output_type": "execute_result"
    }
   ],
   "source": [
    "restraunt_count_per_city=df[\"City\"].value_counts()\n",
    "restraunt_count_per_city"
   ]
  },
  {
   "cell_type": "markdown",
   "id": "ab8b4edd",
   "metadata": {
    "papermill": {
     "duration": 0.013663,
     "end_time": "2023-10-08T09:08:15.728232",
     "exception": false,
     "start_time": "2023-10-08T09:08:15.714569",
     "status": "completed"
    },
    "tags": []
   },
   "source": [
    "# Counting the no. of restraunts in each city"
   ]
  },
  {
   "cell_type": "code",
   "execution_count": 21,
   "id": "f7a150cc",
   "metadata": {
    "execution": {
     "iopub.execute_input": "2023-10-08T09:08:15.755920Z",
     "iopub.status.busy": "2023-10-08T09:08:15.755559Z",
     "iopub.status.idle": "2023-10-08T09:08:15.768322Z",
     "shell.execute_reply": "2023-10-08T09:08:15.767514Z"
    },
    "papermill": {
     "duration": 0.029099,
     "end_time": "2023-10-08T09:08:15.770423",
     "exception": false,
     "start_time": "2023-10-08T09:08:15.741324",
     "status": "completed"
    },
    "tags": []
   },
   "outputs": [
    {
     "data": {
      "text/plain": [
       "City\n",
       "Mumbai       393.794832\n",
       "Bangalore    382.524313\n",
       "Kolkata      362.294205\n",
       "Chennai      356.247740\n",
       "Pune         353.763303\n",
       "Delhi        333.301146\n",
       "Ahmedabad    318.128312\n",
       "Hyderabad    299.926512\n",
       "Surat        270.171875\n",
       "Name: Price, dtype: float64"
      ]
     },
     "execution_count": 21,
     "metadata": {},
     "output_type": "execute_result"
    }
   ],
   "source": [
    "mean_price_per_city = df.groupby(\"City\")[\"Price\"].mean()\n",
    "mean_price_per_city = mean_price_per_city.sort_values(ascending=False)\n",
    "mean_price_per_city"
   ]
  },
  {
   "cell_type": "markdown",
   "id": "90e43d6f",
   "metadata": {
    "papermill": {
     "duration": 0.012936,
     "end_time": "2023-10-08T09:08:15.796402",
     "exception": false,
     "start_time": "2023-10-08T09:08:15.783466",
     "status": "completed"
    },
    "tags": []
   },
   "source": [
    "# Calculating the mean price of food in different cities"
   ]
  },
  {
   "cell_type": "code",
   "execution_count": 22,
   "id": "87c2bc97",
   "metadata": {
    "execution": {
     "iopub.execute_input": "2023-10-08T09:08:15.823472Z",
     "iopub.status.busy": "2023-10-08T09:08:15.823058Z",
     "iopub.status.idle": "2023-10-08T09:08:15.837971Z",
     "shell.execute_reply": "2023-10-08T09:08:15.836909Z"
    },
    "papermill": {
     "duration": 0.031189,
     "end_time": "2023-10-08T09:08:15.840255",
     "exception": false,
     "start_time": "2023-10-08T09:08:15.809066",
     "status": "completed"
    },
    "tags": []
   },
   "outputs": [
    {
     "data": {
      "text/plain": [
       "0.6835768476867801"
      ]
     },
     "execution_count": 22,
     "metadata": {},
     "output_type": "execute_result"
    }
   ],
   "source": [
    "correlation = mean_price_per_city.corr(restraunt_count_per_city)\n",
    "correlation"
   ]
  },
  {
   "cell_type": "markdown",
   "id": "ee245a4c",
   "metadata": {
    "papermill": {
     "duration": 0.013094,
     "end_time": "2023-10-08T09:08:15.867116",
     "exception": false,
     "start_time": "2023-10-08T09:08:15.854022",
     "status": "completed"
    },
    "tags": []
   },
   "source": [
    "# A moderate correlation between price per city and restraunts per city"
   ]
  },
  {
   "cell_type": "code",
   "execution_count": 23,
   "id": "02167bf8",
   "metadata": {
    "execution": {
     "iopub.execute_input": "2023-10-08T09:08:15.895658Z",
     "iopub.status.busy": "2023-10-08T09:08:15.895292Z",
     "iopub.status.idle": "2023-10-08T09:08:16.257437Z",
     "shell.execute_reply": "2023-10-08T09:08:16.256634Z"
    },
    "papermill": {
     "duration": 0.379183,
     "end_time": "2023-10-08T09:08:16.259644",
     "exception": false,
     "start_time": "2023-10-08T09:08:15.880461",
     "status": "completed"
    },
    "tags": []
   },
   "outputs": [
    {
     "data": {
      "image/png": "[encoded data removed]",
      "text/plain": [
       "<Figure size 1600x800 with 1 Axes>"
      ]
     },
     "metadata": {},
     "output_type": "display_data"
    }
   ],
   "source": [
    "plt.bar(mean_price_per_city.index,mean_price_per_city.values)\n",
    "plt.xlabel(\"City\")\n",
    "plt.ylabel(\"Price\")\n",
    "plt.title(\"Mean price across different cities\")\n",
    "plt.show()"
   ]
  },
  {
   "cell_type": "markdown",
   "id": "1eb6b0a6",
   "metadata": {
    "papermill": {
     "duration": 0.013677,
     "end_time": "2023-10-08T09:08:16.287557",
     "exception": false,
     "start_time": "2023-10-08T09:08:16.273880",
     "status": "completed"
    },
    "tags": []
   },
   "source": [
    "# Bar graph reprsentation of prices across different cities"
   ]
  },
  {
   "cell_type": "code",
   "execution_count": 24,
   "id": "f0bdecb8",
   "metadata": {
    "execution": {
     "iopub.execute_input": "2023-10-08T09:08:16.318238Z",
     "iopub.status.busy": "2023-10-08T09:08:16.317148Z",
     "iopub.status.idle": "2023-10-08T09:08:16.327623Z",
     "shell.execute_reply": "2023-10-08T09:08:16.326626Z"
    },
    "papermill": {
     "duration": 0.027936,
     "end_time": "2023-10-08T09:08:16.329589",
     "exception": false,
     "start_time": "2023-10-08T09:08:16.301653",
     "status": "completed"
    },
    "tags": []
   },
   "outputs": [
    {
     "data": {
      "text/plain": [
       "City\n",
       "Kolkata      67.809807\n",
       "Chennai      58.968354\n",
       "Pune         55.854128\n",
       "Delhi        50.734861\n",
       "Bangalore    50.529598\n",
       "Hyderabad    49.933023\n",
       "Surat        48.484375\n",
       "Mumbai       48.318716\n",
       "Ahmedabad    44.709902\n",
       "Name: Delivery time, dtype: float64"
      ]
     },
     "execution_count": 24,
     "metadata": {},
     "output_type": "execute_result"
    }
   ],
   "source": [
    "mean_deliver_time_per_city=df.groupby(\"City\")[\"Delivery time\"].mean()\n",
    "mean_deliver_time_per_city=mean_deliver_time_per_city.sort_values(ascending=False)\n",
    "mean_deliver_time_per_city"
   ]
  },
  {
   "cell_type": "markdown",
   "id": "5b9529a0",
   "metadata": {
    "papermill": {
     "duration": 0.013342,
     "end_time": "2023-10-08T09:08:16.356448",
     "exception": false,
     "start_time": "2023-10-08T09:08:16.343106",
     "status": "completed"
    },
    "tags": []
   },
   "source": [
    "# Calculating the average time for deilvery in each city"
   ]
  },
  {
   "cell_type": "code",
   "execution_count": 25,
   "id": "e343a93d",
   "metadata": {
    "execution": {
     "iopub.execute_input": "2023-10-08T09:08:16.385262Z",
     "iopub.status.busy": "2023-10-08T09:08:16.384812Z",
     "iopub.status.idle": "2023-10-08T09:08:16.712660Z",
     "shell.execute_reply": "2023-10-08T09:08:16.711520Z"
    },
    "papermill": {
     "duration": 0.345127,
     "end_time": "2023-10-08T09:08:16.714864",
     "exception": false,
     "start_time": "2023-10-08T09:08:16.369737",
     "status": "completed"
    },
    "tags": []
   },
   "outputs": [
    {
     "data": {
      "image/png": "[encoded data removed]",
      "text/plain": [
       "<Figure size 1600x800 with 1 Axes>"
      ]
     },
     "metadata": {},
     "output_type": "display_data"
    }
   ],
   "source": [
    "plt.bar(mean_deliver_time_per_city.index,mean_deliver_time_per_city.values)\n",
    "plt.xlabel(\"City\")\n",
    "plt.ylabel(\"Mean Delivery time\")\n",
    "plt.title(\"Mean Delivery Time across different cities\")\n",
    "plt.show()"
   ]
  },
  {
   "cell_type": "markdown",
   "id": "ed8cb4de",
   "metadata": {
    "papermill": {
     "duration": 0.014446,
     "end_time": "2023-10-08T09:08:16.744106",
     "exception": false,
     "start_time": "2023-10-08T09:08:16.729660",
     "status": "completed"
    },
    "tags": []
   },
   "source": [
    "# Bar graph representation of avg delivery times across cities"
   ]
  },
  {
   "cell_type": "code",
   "execution_count": 26,
   "id": "55a61879",
   "metadata": {
    "execution": {
     "iopub.execute_input": "2023-10-08T09:08:16.775395Z",
     "iopub.status.busy": "2023-10-08T09:08:16.775009Z",
     "iopub.status.idle": "2023-10-08T09:08:16.788315Z",
     "shell.execute_reply": "2023-10-08T09:08:16.787141Z"
    },
    "papermill": {
     "duration": 0.031578,
     "end_time": "2023-10-08T09:08:16.790201",
     "exception": false,
     "start_time": "2023-10-08T09:08:16.758623",
     "status": "completed"
    },
    "tags": []
   },
   "outputs": [
    {
     "data": {
      "text/plain": [
       "Area\n",
       "Rabindrapally                 97.0\n",
       "Santoshpur                    92.0\n",
       "Haltu                         91.0\n",
       "Tollygunge                    90.7\n",
       "Smarpally Kestopur            90.0\n",
       "                              ... \n",
       "Rajamohallah                  27.0\n",
       "Chanchalguda                  27.0\n",
       "Moonlight Cream Sagrampura    26.0\n",
       "Ramkote                       26.0\n",
       "Venkateshwara Colony          24.0\n",
       "Name: Delivery time, Length: 833, dtype: float64"
      ]
     },
     "execution_count": 26,
     "metadata": {},
     "output_type": "execute_result"
    }
   ],
   "source": [
    "average_deilver_time_per_area = df.groupby(\"Area\")['Delivery time'].mean()\n",
    "average_deilver_time_per_area = average_deilver_time_per_area.sort_values(ascending=False)\n",
    "average_deilver_time_per_area"
   ]
  },
  {
   "cell_type": "markdown",
   "id": "ebb3a272",
   "metadata": {
    "papermill": {
     "duration": 0.014399,
     "end_time": "2023-10-08T09:08:16.819553",
     "exception": false,
     "start_time": "2023-10-08T09:08:16.805154",
     "status": "completed"
    },
    "tags": []
   },
   "source": [
    "# Calculating the mean delivery time across areas given in the data frame"
   ]
  },
  {
   "cell_type": "code",
   "execution_count": 27,
   "id": "04c99cfc",
   "metadata": {
    "execution": {
     "iopub.execute_input": "2023-10-08T09:08:16.852390Z",
     "iopub.status.busy": "2023-10-08T09:08:16.851197Z",
     "iopub.status.idle": "2023-10-08T09:08:17.812631Z",
     "shell.execute_reply": "2023-10-08T09:08:17.811763Z"
    },
    "papermill": {
     "duration": 0.981392,
     "end_time": "2023-10-08T09:08:17.815838",
     "exception": false,
     "start_time": "2023-10-08T09:08:16.834446",
     "status": "completed"
    },
    "tags": []
   },
   "outputs": [
    {
     "data": {
      "image/png": "[encoded data removed]",
      "text/plain": [
       "<Figure size 1600x800 with 1 Axes>"
      ]
     },
     "metadata": {},
     "output_type": "display_data"
    }
   ],
   "source": [
    "sns.regplot(x=\"Price\", y=\"Delivery time\", data=df)\n",
    "plt.title(\"Relationship between Delivery time and Price\")\n",
    "plt.xlabel(\"Price\")\n",
    "plt.ylabel(\"Delivery Time (minutes)\")\n",
    "plt.show()"
   ]
  },
  {
   "cell_type": "markdown",
   "id": "75265dd6",
   "metadata": {
    "papermill": {
     "duration": 0.016819,
     "end_time": "2023-10-08T09:08:17.850651",
     "exception": false,
     "start_time": "2023-10-08T09:08:17.833832",
     "status": "completed"
    },
    "tags": []
   },
   "source": [
    "# regplot for seeing the correaltion between Delivery time and Price"
   ]
  },
  {
   "cell_type": "code",
   "execution_count": 28,
   "id": "3d3e7700",
   "metadata": {
    "execution": {
     "iopub.execute_input": "2023-10-08T09:08:17.887576Z",
     "iopub.status.busy": "2023-10-08T09:08:17.886368Z",
     "iopub.status.idle": "2023-10-08T09:08:17.898058Z",
     "shell.execute_reply": "2023-10-08T09:08:17.897066Z"
    },
    "papermill": {
     "duration": 0.03235,
     "end_time": "2023-10-08T09:08:17.900135",
     "exception": false,
     "start_time": "2023-10-08T09:08:17.867785",
     "status": "completed"
    },
    "tags": []
   },
   "outputs": [
    {
     "data": {
      "text/plain": [
       "City\n",
       "Chennai      3.776311\n",
       "Bangalore    3.762896\n",
       "Hyderabad    3.701395\n",
       "Kolkata      3.698811\n",
       "Mumbai       3.599374\n",
       "Ahmedabad    3.596513\n",
       "Surat        3.580078\n",
       "Pune         3.550183\n",
       "Delhi        3.526350\n",
       "Name: Avg ratings, dtype: float64"
      ]
     },
     "execution_count": 28,
     "metadata": {},
     "output_type": "execute_result"
    }
   ],
   "source": [
    "mean_ratings_per_city=df.groupby(\"City\")[\"Avg ratings\"].mean()\n",
    "mean_ratings_per_city=mean_ratings_per_city.sort_values(ascending=False)\n",
    "mean_ratings_per_city"
   ]
  },
  {
   "cell_type": "markdown",
   "id": "ab56ca82",
   "metadata": {
    "papermill": {
     "duration": 0.018244,
     "end_time": "2023-10-08T09:08:17.935340",
     "exception": false,
     "start_time": "2023-10-08T09:08:17.917096",
     "status": "completed"
    },
    "tags": []
   },
   "source": [
    "# Avg ratings across different cities"
   ]
  },
  {
   "cell_type": "code",
   "execution_count": 29,
   "id": "43069a05",
   "metadata": {
    "execution": {
     "iopub.execute_input": "2023-10-08T09:08:17.987238Z",
     "iopub.status.busy": "2023-10-08T09:08:17.986382Z",
     "iopub.status.idle": "2023-10-08T09:08:18.341763Z",
     "shell.execute_reply": "2023-10-08T09:08:18.340611Z"
    },
    "papermill": {
     "duration": 0.382352,
     "end_time": "2023-10-08T09:08:18.344185",
     "exception": false,
     "start_time": "2023-10-08T09:08:17.961833",
     "status": "completed"
    },
    "tags": []
   },
   "outputs": [
    {
     "data": {
      "image/png": "[encoded data removed]",
      "text/plain": [
       "<Figure size 1600x800 with 1 Axes>"
      ]
     },
     "metadata": {},
     "output_type": "display_data"
    }
   ],
   "source": [
    "plt.bar(mean_ratings_per_city.index,mean_ratings_per_city.values)\n",
    "plt.xlabel(\"City\")\n",
    "plt.ylabel(\"Mean ratings\")\n",
    "plt.title(\"Mean ratings across different cities\")\n",
    "plt.show()"
   ]
  },
  {
   "cell_type": "markdown",
   "id": "e29a81ec",
   "metadata": {
    "papermill": {
     "duration": 0.017309,
     "end_time": "2023-10-08T09:08:18.379598",
     "exception": false,
     "start_time": "2023-10-08T09:08:18.362289",
     "status": "completed"
    },
    "tags": []
   },
   "source": [
    "# Graph bar representaion of avg ratings across different cities"
   ]
  },
  {
   "cell_type": "code",
   "execution_count": 30,
   "id": "c28ef418",
   "metadata": {
    "execution": {
     "iopub.execute_input": "2023-10-08T09:08:18.417418Z",
     "iopub.status.busy": "2023-10-08T09:08:18.416235Z",
     "iopub.status.idle": "2023-10-08T09:08:18.440063Z",
     "shell.execute_reply": "2023-10-08T09:08:18.438528Z"
    },
    "papermill": {
     "duration": 0.045485,
     "end_time": "2023-10-08T09:08:18.442559",
     "exception": false,
     "start_time": "2023-10-08T09:08:18.397074",
     "status": "completed"
    },
    "tags": []
   },
   "outputs": [
    {
     "data": {
      "text/html": [
       "<div>\n",
       "<style scoped>\n",
       "    .dataframe tbody tr th:only-of-type {\n",
       "        vertical-align: middle;\n",
       "    }\n",
       "\n",
       "    .dataframe tbody tr th {\n",
       "        vertical-align: top;\n",
       "    }\n",
       "\n",
       "    .dataframe thead th {\n",
       "        text-align: right;\n",
       "    }\n",
       "</style>\n",
       "<table border=\"1\" class=\"dataframe\">\n",
       "  <thead>\n",
       "    <tr style=\"text-align: right;\">\n",
       "      <th></th>\n",
       "      <th>ID</th>\n",
       "      <th>Area</th>\n",
       "      <th>City</th>\n",
       "      <th>Restaurant</th>\n",
       "      <th>Price</th>\n",
       "      <th>Avg ratings</th>\n",
       "      <th>Total ratings</th>\n",
       "      <th>Food type</th>\n",
       "      <th>Address</th>\n",
       "      <th>Delivery time</th>\n",
       "    </tr>\n",
       "  </thead>\n",
       "  <tbody>\n",
       "    <tr>\n",
       "      <th>5425</th>\n",
       "      <td>427282</td>\n",
       "      <td>Chembur</td>\n",
       "      <td>Mumbai</td>\n",
       "      <td>The Asian Pavilion</td>\n",
       "      <td>200.0</td>\n",
       "      <td>5.0</td>\n",
       "      <td>20</td>\n",
       "      <td>Asian  Chinese</td>\n",
       "      <td>Chembur</td>\n",
       "      <td>64</td>\n",
       "    </tr>\n",
       "    <tr>\n",
       "      <th>3894</th>\n",
       "      <td>357553</td>\n",
       "      <td>Bandra East</td>\n",
       "      <td>Mumbai</td>\n",
       "      <td>Diamond Market Pizza Jp</td>\n",
       "      <td>600.0</td>\n",
       "      <td>5.0</td>\n",
       "      <td>20</td>\n",
       "      <td>Italian</td>\n",
       "      <td>Scruz Bandra East</td>\n",
       "      <td>43</td>\n",
       "    </tr>\n",
       "    <tr>\n",
       "      <th>5800</th>\n",
       "      <td>442023</td>\n",
       "      <td>Himayath Nagar</td>\n",
       "      <td>Hyderabad</td>\n",
       "      <td>The Liege Waffles</td>\n",
       "      <td>300.0</td>\n",
       "      <td>5.0</td>\n",
       "      <td>20</td>\n",
       "      <td>Desserts  Bakery</td>\n",
       "      <td>Himayath Nagar</td>\n",
       "      <td>45</td>\n",
       "    </tr>\n",
       "    <tr>\n",
       "      <th>8439</th>\n",
       "      <td>432094</td>\n",
       "      <td>Esplanade</td>\n",
       "      <td>Kolkata</td>\n",
       "      <td>Keventers Ice Creamery</td>\n",
       "      <td>300.0</td>\n",
       "      <td>5.0</td>\n",
       "      <td>20</td>\n",
       "      <td>Ice Cream,Desserts</td>\n",
       "      <td>New Empire Cinema Kolkata</td>\n",
       "      <td>45</td>\n",
       "    </tr>\n",
       "    <tr>\n",
       "      <th>5799</th>\n",
       "      <td>442021</td>\n",
       "      <td>Himayath Nagar</td>\n",
       "      <td>Hyderabad</td>\n",
       "      <td>Splurge - Thickshakes And Milkshakes</td>\n",
       "      <td>300.0</td>\n",
       "      <td>5.0</td>\n",
       "      <td>20</td>\n",
       "      <td>Desserts  Ice Cream  Beverages</td>\n",
       "      <td>Himayath Nagar</td>\n",
       "      <td>45</td>\n",
       "    </tr>\n",
       "    <tr>\n",
       "      <th>...</th>\n",
       "      <td>...</td>\n",
       "      <td>...</td>\n",
       "      <td>...</td>\n",
       "      <td>...</td>\n",
       "      <td>...</td>\n",
       "      <td>...</td>\n",
       "      <td>...</td>\n",
       "      <td>...</td>\n",
       "      <td>...</td>\n",
       "      <td>...</td>\n",
       "    </tr>\n",
       "    <tr>\n",
       "      <th>3149</th>\n",
       "      <td>312035</td>\n",
       "      <td>Lake Town</td>\n",
       "      <td>Kolkata</td>\n",
       "      <td>Diwan Food Court</td>\n",
       "      <td>300.0</td>\n",
       "      <td>2.3</td>\n",
       "      <td>20</td>\n",
       "      <td>Combo,North Indian</td>\n",
       "      <td>Lake Town</td>\n",
       "      <td>76</td>\n",
       "    </tr>\n",
       "    <tr>\n",
       "      <th>4953</th>\n",
       "      <td>405845</td>\n",
       "      <td>Kausar Baugh Nibm Road</td>\n",
       "      <td>Pune</td>\n",
       "      <td>Hyderabadi Biryani House</td>\n",
       "      <td>150.0</td>\n",
       "      <td>2.2</td>\n",
       "      <td>20</td>\n",
       "      <td>Biryani,Thalis,Indian,Desserts</td>\n",
       "      <td>Undri</td>\n",
       "      <td>77</td>\n",
       "    </tr>\n",
       "    <tr>\n",
       "      <th>111</th>\n",
       "      <td>4783</td>\n",
       "      <td>Adikmet</td>\n",
       "      <td>Hyderabad</td>\n",
       "      <td>Frosty Den</td>\n",
       "      <td>200.0</td>\n",
       "      <td>2.2</td>\n",
       "      <td>20</td>\n",
       "      <td>Ice Cream,Pizzas,Fast Food,Beverages,Desserts</td>\n",
       "      <td>O.U Road</td>\n",
       "      <td>43</td>\n",
       "    </tr>\n",
       "    <tr>\n",
       "      <th>5339</th>\n",
       "      <td>423285</td>\n",
       "      <td>Himayath Nagar</td>\n",
       "      <td>Hyderabad</td>\n",
       "      <td>The Shawarma Daddy</td>\n",
       "      <td>150.0</td>\n",
       "      <td>2.2</td>\n",
       "      <td>50</td>\n",
       "      <td>Arabian,Continental,Snacks</td>\n",
       "      <td>Himayath Nagar</td>\n",
       "      <td>44</td>\n",
       "    </tr>\n",
       "    <tr>\n",
       "      <th>4828</th>\n",
       "      <td>400503</td>\n",
       "      <td>Kothrud</td>\n",
       "      <td>Pune</td>\n",
       "      <td>Golden Dragon Chinese &amp; Momo</td>\n",
       "      <td>300.0</td>\n",
       "      <td>2.0</td>\n",
       "      <td>20</td>\n",
       "      <td>Chinese</td>\n",
       "      <td>Kothrud</td>\n",
       "      <td>68</td>\n",
       "    </tr>\n",
       "  </tbody>\n",
       "</table>\n",
       "<p>8680 rows × 10 columns</p>\n",
       "</div>"
      ],
      "text/plain": [
       "          ID                    Area       City  \\\n",
       "5425  427282                 Chembur     Mumbai   \n",
       "3894  357553             Bandra East     Mumbai   \n",
       "5800  442023          Himayath Nagar  Hyderabad   \n",
       "8439  432094               Esplanade    Kolkata   \n",
       "5799  442021          Himayath Nagar  Hyderabad   \n",
       "...      ...                     ...        ...   \n",
       "3149  312035               Lake Town    Kolkata   \n",
       "4953  405845  Kausar Baugh Nibm Road       Pune   \n",
       "111     4783                 Adikmet  Hyderabad   \n",
       "5339  423285          Himayath Nagar  Hyderabad   \n",
       "4828  400503                 Kothrud       Pune   \n",
       "\n",
       "                                Restaurant  Price  Avg ratings  Total ratings  \\\n",
       "5425                    The Asian Pavilion  200.0          5.0             20   \n",
       "3894               Diamond Market Pizza Jp  600.0          5.0             20   \n",
       "5800                     The Liege Waffles  300.0          5.0             20   \n",
       "8439                Keventers Ice Creamery  300.0          5.0             20   \n",
       "5799  Splurge - Thickshakes And Milkshakes  300.0          5.0             20   \n",
       "...                                    ...    ...          ...            ...   \n",
       "3149                      Diwan Food Court  300.0          2.3             20   \n",
       "4953              Hyderabadi Biryani House  150.0          2.2             20   \n",
       "111                             Frosty Den  200.0          2.2             20   \n",
       "5339                    The Shawarma Daddy  150.0          2.2             50   \n",
       "4828          Golden Dragon Chinese & Momo  300.0          2.0             20   \n",
       "\n",
       "                                          Food type  \\\n",
       "5425                                 Asian  Chinese   \n",
       "3894                                        Italian   \n",
       "5800                               Desserts  Bakery   \n",
       "8439                             Ice Cream,Desserts   \n",
       "5799                 Desserts  Ice Cream  Beverages   \n",
       "...                                             ...   \n",
       "3149                             Combo,North Indian   \n",
       "4953                 Biryani,Thalis,Indian,Desserts   \n",
       "111   Ice Cream,Pizzas,Fast Food,Beverages,Desserts   \n",
       "5339                     Arabian,Continental,Snacks   \n",
       "4828                                        Chinese   \n",
       "\n",
       "                        Address  Delivery time  \n",
       "5425                    Chembur             64  \n",
       "3894          Scruz Bandra East             43  \n",
       "5800             Himayath Nagar             45  \n",
       "8439  New Empire Cinema Kolkata             45  \n",
       "5799             Himayath Nagar             45  \n",
       "...                         ...            ...  \n",
       "3149                  Lake Town             76  \n",
       "4953                      Undri             77  \n",
       "111                    O.U Road             43  \n",
       "5339             Himayath Nagar             44  \n",
       "4828                    Kothrud             68  \n",
       "\n",
       "[8680 rows x 10 columns]"
      ]
     },
     "execution_count": 30,
     "metadata": {},
     "output_type": "execute_result"
    }
   ],
   "source": [
    "Average_rating=df.sort_values(by=['Avg ratings'], ascending=False)\n",
    "Average_rating"
   ]
  },
  {
   "cell_type": "markdown",
   "id": "5bc44294",
   "metadata": {
    "papermill": {
     "duration": 0.020825,
     "end_time": "2023-10-08T09:08:18.488214",
     "exception": false,
     "start_time": "2023-10-08T09:08:18.467389",
     "status": "completed"
    },
    "tags": []
   },
   "source": [
    "# Restraunts sorted by highest average ratings"
   ]
  },
  {
   "cell_type": "code",
   "execution_count": 31,
   "id": "1f870c91",
   "metadata": {
    "execution": {
     "iopub.execute_input": "2023-10-08T09:08:18.528186Z",
     "iopub.status.busy": "2023-10-08T09:08:18.527676Z",
     "iopub.status.idle": "2023-10-08T09:08:18.550017Z",
     "shell.execute_reply": "2023-10-08T09:08:18.549246Z"
    },
    "papermill": {
     "duration": 0.044158,
     "end_time": "2023-10-08T09:08:18.552018",
     "exception": false,
     "start_time": "2023-10-08T09:08:18.507860",
     "status": "completed"
    },
    "tags": []
   },
   "outputs": [
    {
     "data": {
      "text/html": [
       "<div>\n",
       "<style scoped>\n",
       "    .dataframe tbody tr th:only-of-type {\n",
       "        vertical-align: middle;\n",
       "    }\n",
       "\n",
       "    .dataframe tbody tr th {\n",
       "        vertical-align: top;\n",
       "    }\n",
       "\n",
       "    .dataframe thead th {\n",
       "        text-align: right;\n",
       "    }\n",
       "</style>\n",
       "<table border=\"1\" class=\"dataframe\">\n",
       "  <thead>\n",
       "    <tr style=\"text-align: right;\">\n",
       "      <th></th>\n",
       "      <th>ID</th>\n",
       "      <th>Area</th>\n",
       "      <th>City</th>\n",
       "      <th>Restaurant</th>\n",
       "      <th>Price</th>\n",
       "      <th>Avg ratings</th>\n",
       "      <th>Total ratings</th>\n",
       "      <th>Food type</th>\n",
       "      <th>Address</th>\n",
       "      <th>Delivery time</th>\n",
       "    </tr>\n",
       "  </thead>\n",
       "  <tbody>\n",
       "    <tr>\n",
       "      <th>90</th>\n",
       "      <td>4138</td>\n",
       "      <td>Koti</td>\n",
       "      <td>Hyderabad</td>\n",
       "      <td>Grand Hotel</td>\n",
       "      <td>300.0</td>\n",
       "      <td>4.1</td>\n",
       "      <td>10000</td>\n",
       "      <td>Biryani,Tandoor,Chinese,Indian,Kebabs,Desserts</td>\n",
       "      <td>Abids Road</td>\n",
       "      <td>24</td>\n",
       "    </tr>\n",
       "    <tr>\n",
       "      <th>95</th>\n",
       "      <td>4320</td>\n",
       "      <td>Narayanguda</td>\n",
       "      <td>Hyderabad</td>\n",
       "      <td>Mehfil</td>\n",
       "      <td>300.0</td>\n",
       "      <td>3.9</td>\n",
       "      <td>10000</td>\n",
       "      <td>Biryani,Tandoor,Chinese,Indian,Kebabs,Desserts</td>\n",
       "      <td>Narayanguda</td>\n",
       "      <td>25</td>\n",
       "    </tr>\n",
       "    <tr>\n",
       "      <th>1819</th>\n",
       "      <td>131870</td>\n",
       "      <td>Kavadiguda</td>\n",
       "      <td>Hyderabad</td>\n",
       "      <td>4M Biryani House</td>\n",
       "      <td>250.0</td>\n",
       "      <td>4.1</td>\n",
       "      <td>10000</td>\n",
       "      <td>Biryani,North Indian,Chinese</td>\n",
       "      <td>Nallakunta &amp; Vidyanagar</td>\n",
       "      <td>41</td>\n",
       "    </tr>\n",
       "    <tr>\n",
       "      <th>106</th>\n",
       "      <td>4650</td>\n",
       "      <td>New Nallakunta</td>\n",
       "      <td>Hyderabad</td>\n",
       "      <td>Bawarchi</td>\n",
       "      <td>300.0</td>\n",
       "      <td>3.9</td>\n",
       "      <td>10000</td>\n",
       "      <td>Biryani,Tandoor,Chinese,Indian,Desserts,Kebabs...</td>\n",
       "      <td>Rtc X Roads</td>\n",
       "      <td>27</td>\n",
       "    </tr>\n",
       "    <tr>\n",
       "      <th>4069</th>\n",
       "      <td>367769</td>\n",
       "      <td>Chintal</td>\n",
       "      <td>Hyderabad</td>\n",
       "      <td>Lucky Restaurant</td>\n",
       "      <td>300.0</td>\n",
       "      <td>4.0</td>\n",
       "      <td>10000</td>\n",
       "      <td>Biryani,Tandoor,Chinese,North Indian,Desserts,...</td>\n",
       "      <td>Banjara Hills</td>\n",
       "      <td>38</td>\n",
       "    </tr>\n",
       "    <tr>\n",
       "      <th>...</th>\n",
       "      <td>...</td>\n",
       "      <td>...</td>\n",
       "      <td>...</td>\n",
       "      <td>...</td>\n",
       "      <td>...</td>\n",
       "      <td>...</td>\n",
       "      <td>...</td>\n",
       "      <td>...</td>\n",
       "      <td>...</td>\n",
       "      <td>...</td>\n",
       "    </tr>\n",
       "    <tr>\n",
       "      <th>3437</th>\n",
       "      <td>332040</td>\n",
       "      <td>Bidhannagar</td>\n",
       "      <td>Kolkata</td>\n",
       "      <td>Binge Momos</td>\n",
       "      <td>300.0</td>\n",
       "      <td>3.8</td>\n",
       "      <td>20</td>\n",
       "      <td>Chinese,Pan-Asian</td>\n",
       "      <td>Sector V Salt Lake</td>\n",
       "      <td>83</td>\n",
       "    </tr>\n",
       "    <tr>\n",
       "      <th>6878</th>\n",
       "      <td>46222</td>\n",
       "      <td>Kilpauk</td>\n",
       "      <td>Chennai</td>\n",
       "      <td>Prive Restaurant</td>\n",
       "      <td>1200.0</td>\n",
       "      <td>4.4</td>\n",
       "      <td>20</td>\n",
       "      <td>Continental,North Indian</td>\n",
       "      <td>New 71 Ormes Road</td>\n",
       "      <td>48</td>\n",
       "    </tr>\n",
       "    <tr>\n",
       "      <th>6877</th>\n",
       "      <td>46125</td>\n",
       "      <td>Bidhannagar</td>\n",
       "      <td>Kolkata</td>\n",
       "      <td>Plush 28</td>\n",
       "      <td>1200.0</td>\n",
       "      <td>4.4</td>\n",
       "      <td>20</td>\n",
       "      <td>Indian,Chinese,Oriental,Italian</td>\n",
       "      <td>Near Tank No.4</td>\n",
       "      <td>63</td>\n",
       "    </tr>\n",
       "    <tr>\n",
       "      <th>3439</th>\n",
       "      <td>332172</td>\n",
       "      <td>New Malakpet</td>\n",
       "      <td>Hyderabad</td>\n",
       "      <td>Grill Station</td>\n",
       "      <td>200.0</td>\n",
       "      <td>3.9</td>\n",
       "      <td>20</td>\n",
       "      <td>Indian</td>\n",
       "      <td>Kothapet &amp; Dilsukhnagar</td>\n",
       "      <td>44</td>\n",
       "    </tr>\n",
       "    <tr>\n",
       "      <th>1225</th>\n",
       "      <td>60074</td>\n",
       "      <td>Santacruz East</td>\n",
       "      <td>Mumbai</td>\n",
       "      <td>Oriental Combo Box</td>\n",
       "      <td>300.0</td>\n",
       "      <td>4.2</td>\n",
       "      <td>20</td>\n",
       "      <td>Chinese</td>\n",
       "      <td>Santacruz East</td>\n",
       "      <td>36</td>\n",
       "    </tr>\n",
       "  </tbody>\n",
       "</table>\n",
       "<p>8680 rows × 10 columns</p>\n",
       "</div>"
      ],
      "text/plain": [
       "          ID            Area       City          Restaurant   Price  \\\n",
       "90      4138            Koti  Hyderabad         Grand Hotel   300.0   \n",
       "95      4320     Narayanguda  Hyderabad              Mehfil   300.0   \n",
       "1819  131870      Kavadiguda  Hyderabad    4M Biryani House   250.0   \n",
       "106     4650  New Nallakunta  Hyderabad            Bawarchi   300.0   \n",
       "4069  367769         Chintal  Hyderabad    Lucky Restaurant   300.0   \n",
       "...      ...             ...        ...                 ...     ...   \n",
       "3437  332040     Bidhannagar    Kolkata         Binge Momos   300.0   \n",
       "6878   46222         Kilpauk    Chennai    Prive Restaurant  1200.0   \n",
       "6877   46125     Bidhannagar    Kolkata            Plush 28  1200.0   \n",
       "3439  332172    New Malakpet  Hyderabad       Grill Station   200.0   \n",
       "1225   60074  Santacruz East     Mumbai  Oriental Combo Box   300.0   \n",
       "\n",
       "      Avg ratings  Total ratings  \\\n",
       "90            4.1          10000   \n",
       "95            3.9          10000   \n",
       "1819          4.1          10000   \n",
       "106           3.9          10000   \n",
       "4069          4.0          10000   \n",
       "...           ...            ...   \n",
       "3437          3.8             20   \n",
       "6878          4.4             20   \n",
       "6877          4.4             20   \n",
       "3439          3.9             20   \n",
       "1225          4.2             20   \n",
       "\n",
       "                                              Food type  \\\n",
       "90       Biryani,Tandoor,Chinese,Indian,Kebabs,Desserts   \n",
       "95       Biryani,Tandoor,Chinese,Indian,Kebabs,Desserts   \n",
       "1819                       Biryani,North Indian,Chinese   \n",
       "106   Biryani,Tandoor,Chinese,Indian,Desserts,Kebabs...   \n",
       "4069  Biryani,Tandoor,Chinese,North Indian,Desserts,...   \n",
       "...                                                 ...   \n",
       "3437                                  Chinese,Pan-Asian   \n",
       "6878                           Continental,North Indian   \n",
       "6877                    Indian,Chinese,Oriental,Italian   \n",
       "3439                                             Indian   \n",
       "1225                                            Chinese   \n",
       "\n",
       "                      Address  Delivery time  \n",
       "90                 Abids Road             24  \n",
       "95                Narayanguda             25  \n",
       "1819  Nallakunta & Vidyanagar             41  \n",
       "106               Rtc X Roads             27  \n",
       "4069            Banjara Hills             38  \n",
       "...                       ...            ...  \n",
       "3437       Sector V Salt Lake             83  \n",
       "6878        New 71 Ormes Road             48  \n",
       "6877           Near Tank No.4             63  \n",
       "3439  Kothapet & Dilsukhnagar             44  \n",
       "1225           Santacruz East             36  \n",
       "\n",
       "[8680 rows x 10 columns]"
      ]
     },
     "execution_count": 31,
     "metadata": {},
     "output_type": "execute_result"
    }
   ],
   "source": [
    "total_rating=df.sort_values(by=['Total ratings'], ascending=False)\n",
    "total_rating"
   ]
  },
  {
   "cell_type": "markdown",
   "id": "2dfb289d",
   "metadata": {
    "papermill": {
     "duration": 0.019711,
     "end_time": "2023-10-08T09:08:18.590981",
     "exception": false,
     "start_time": "2023-10-08T09:08:18.571270",
     "status": "completed"
    },
    "tags": []
   },
   "source": [
    "# Restarunts sorted by highest Total ratings"
   ]
  },
  {
   "cell_type": "code",
   "execution_count": 32,
   "id": "cf12c7ce",
   "metadata": {
    "execution": {
     "iopub.execute_input": "2023-10-08T09:08:18.630533Z",
     "iopub.status.busy": "2023-10-08T09:08:18.629849Z",
     "iopub.status.idle": "2023-10-08T09:08:19.539816Z",
     "shell.execute_reply": "2023-10-08T09:08:19.539130Z"
    },
    "papermill": {
     "duration": 0.933088,
     "end_time": "2023-10-08T09:08:19.542702",
     "exception": false,
     "start_time": "2023-10-08T09:08:18.609614",
     "status": "completed"
    },
    "tags": []
   },
   "outputs": [
    {
     "data": {
      "image/png": "[encoded data removed]",
      "text/plain": [
       "<Figure size 1600x800 with 1 Axes>"
      ]
     },
     "metadata": {},
     "output_type": "display_data"
    }
   ],
   "source": [
    "sns.regplot(y=\"Avg ratings\", x=\"Price\", data=df)\n",
    "plt.title(\"Relationship between Average Ratings and Price\")\n",
    "plt.xlabel(\"Price\")\n",
    "plt.ylabel(\"Avg ratings\")\n",
    "plt.show()"
   ]
  },
  {
   "cell_type": "markdown",
   "id": "d4b5ed28",
   "metadata": {
    "papermill": {
     "duration": 0.019996,
     "end_time": "2023-10-08T09:08:19.583069",
     "exception": false,
     "start_time": "2023-10-08T09:08:19.563073",
     "status": "completed"
    },
    "tags": []
   },
   "source": [
    "# Regplot for correlation between avg ratings of restraunt and Price"
   ]
  },
  {
   "cell_type": "code",
   "execution_count": 33,
   "id": "076368b6",
   "metadata": {
    "execution": {
     "iopub.execute_input": "2023-10-08T09:08:19.627139Z",
     "iopub.status.busy": "2023-10-08T09:08:19.626262Z",
     "iopub.status.idle": "2023-10-08T09:08:19.632812Z",
     "shell.execute_reply": "2023-10-08T09:08:19.632126Z"
    },
    "papermill": {
     "duration": 0.031014,
     "end_time": "2023-10-08T09:08:19.634872",
     "exception": false,
     "start_time": "2023-10-08T09:08:19.603858",
     "status": "completed"
    },
    "tags": []
   },
   "outputs": [
    {
     "data": {
      "text/plain": [
       "array(['Bangalore', 'Hyderabad', 'Mumbai', 'Pune', 'Kolkata', 'Delhi',\n",
       "       'Chennai', 'Ahmedabad', 'Surat'], dtype=object)"
      ]
     },
     "execution_count": 33,
     "metadata": {},
     "output_type": "execute_result"
    }
   ],
   "source": [
    "cities = df['City'].unique()\n",
    "cities"
   ]
  },
  {
   "cell_type": "markdown",
   "id": "30f26079",
   "metadata": {
    "papermill": {
     "duration": 0.021295,
     "end_time": "2023-10-08T09:08:19.676538",
     "exception": false,
     "start_time": "2023-10-08T09:08:19.655243",
     "status": "completed"
    },
    "tags": []
   },
   "source": [
    "# Cities name"
   ]
  },
  {
   "cell_type": "code",
   "execution_count": 34,
   "id": "dcb97d3e",
   "metadata": {
    "execution": {
     "iopub.execute_input": "2023-10-08T09:08:19.720623Z",
     "iopub.status.busy": "2023-10-08T09:08:19.719971Z",
     "iopub.status.idle": "2023-10-08T09:08:19.746481Z",
     "shell.execute_reply": "2023-10-08T09:08:19.745296Z"
    },
    "papermill": {
     "duration": 0.051428,
     "end_time": "2023-10-08T09:08:19.749039",
     "exception": false,
     "start_time": "2023-10-08T09:08:19.697611",
     "status": "completed"
    },
    "tags": []
   },
   "outputs": [
    {
     "name": "stdout",
     "output_type": "stream",
     "text": [
      "The most popular cuisine in Bangalore is South Indian\n",
      "The most popular cuisine in Hyderabad is South Indian\n",
      "The most popular cuisine in Mumbai is Chinese\n",
      "The most popular cuisine in Pune is Chinese\n",
      "The most popular cuisine in Kolkata is Indian\n",
      "The most popular cuisine in Delhi is North Indian\n",
      "The most popular cuisine in Chennai is Indian\n",
      "The most popular cuisine in Ahmedabad is Indian\n",
      "The most popular cuisine in Surat is Fast Food\n"
     ]
    }
   ],
   "source": [
    "most_popular_cuisines = {}\n",
    "for city in cities:\n",
    "    city_df = df[df['City'] == city]\n",
    "    cuisine_counts = city_df['Food type'].value_counts()\n",
    "    most_popular_cuisine = cuisine_counts.index[0]\n",
    "    most_popular_cuisines[city] = most_popular_cuisine\n",
    "for city, most_popular_cuisine in most_popular_cuisines.items():\n",
    "    print('The most popular cuisine in {} is {}'.format(city, most_popular_cuisine))"
   ]
  },
  {
   "cell_type": "markdown",
   "id": "0af94397",
   "metadata": {
    "papermill": {
     "duration": 0.019383,
     "end_time": "2023-10-08T09:08:19.788116",
     "exception": false,
     "start_time": "2023-10-08T09:08:19.768733",
     "status": "completed"
    },
    "tags": []
   },
   "source": [
    "# Calculating the most famous food type in the city"
   ]
  },
  {
   "cell_type": "code",
   "execution_count": 35,
   "id": "39d43cb3",
   "metadata": {
    "execution": {
     "iopub.execute_input": "2023-10-08T09:08:19.828875Z",
     "iopub.status.busy": "2023-10-08T09:08:19.828444Z",
     "iopub.status.idle": "2023-10-08T09:08:19.845587Z",
     "shell.execute_reply": "2023-10-08T09:08:19.844282Z"
    },
    "papermill": {
     "duration": 0.040282,
     "end_time": "2023-10-08T09:08:19.847792",
     "exception": false,
     "start_time": "2023-10-08T09:08:19.807510",
     "status": "completed"
    },
    "tags": []
   },
   "outputs": [
    {
     "name": "stdout",
     "output_type": "stream",
     "text": [
      "                                                    Food type                                    Restaurant type  Average meal price\n",
      "0                                    Japanese,Korean,Barbecue             South Indian,Biryani,Seafood,Fast Food              2500.0\n",
      "1  North Indian,Mughlai,Biryani,Grill,Seafood,Kebabs,Desserts  Pizzas,Fast Food,Chinese,Pastas,Biryani,Beverages              2500.0\n",
      "2                                           Asian,Continental                            Mughlai,Chinese,Tandoor              2000.0\n",
      "3                                  Healthy Food,Salads,Pizzas            Hyderabadi,Tandoor,Kebabs,Grill,Biryani              1900.0\n",
      "4                                             Goan,Portuguese                                  Cafe,Healthy Food              1800.0\n"
     ]
    }
   ],
   "source": [
    "restaurant_types = df['Food type'].unique()\n",
    "restaurant_types_and_prices_df = pd.DataFrame({'Restaurant type': restaurant_types,'Average meal price': df.groupby('Food type')['Price'].mean()})\n",
    "restaurant_types_and_prices_df = restaurant_types_and_prices_df.sort_values(by='Average meal price', ascending=False)\n",
    "restaurant_types_and_prices_df = restaurant_types_and_prices_df.reset_index()\n",
    "print(restaurant_types_and_prices_df.head(5).to_string(index=True))\n"
   ]
  },
  {
   "cell_type": "markdown",
   "id": "3aba7c96",
   "metadata": {
    "papermill": {
     "duration": 0.019501,
     "end_time": "2023-10-08T09:08:19.886889",
     "exception": false,
     "start_time": "2023-10-08T09:08:19.867388",
     "status": "completed"
    },
    "tags": []
   },
   "source": [
    "# combinations of food types offered by restraunts sorted according to price"
   ]
  },
  {
   "cell_type": "markdown",
   "id": "bc1a88c3",
   "metadata": {
    "papermill": {
     "duration": 0.019038,
     "end_time": "2023-10-08T09:08:19.925305",
     "exception": false,
     "start_time": "2023-10-08T09:08:19.906267",
     "status": "completed"
    },
    "tags": []
   },
   "source": [
    "# through the data analysis we were able to see that the prices were highest in mumbai and lowest in surat"
   ]
  },
  {
   "cell_type": "markdown",
   "id": "771df5f8",
   "metadata": {
    "papermill": {
     "duration": 0.019051,
     "end_time": "2023-10-08T09:08:19.963544",
     "exception": false,
     "start_time": "2023-10-08T09:08:19.944493",
     "status": "completed"
    },
    "tags": []
   },
   "source": [
    "# Deilvey time was highest in Kolkata and lowest in Ahemdabad"
   ]
  }
 ],
 "metadata": {
  "kernelspec": {
   "display_name": "Python 3 (ipykernel)",
   "language": "python",
   "name": "python3"
  },
  "language_info": {
   "codemirror_mode": {
    "name": "ipython",
    "version": 3
   },
   "file_extension": ".py",
   "mimetype": "text/x-python",
   "name": "python",
   "nbconvert_exporter": "python",
   "pygments_lexer": "ipython3",
   "version": "3.11.7"
  },
  "papermill": {
   "default_parameters": {},
   "duration": 11.428523,
   "end_time": "2023-10-08T09:08:20.607301",
   "environment_variables": {},
   "exception": null,
   "input_path": "__notebook__.ipynb",
   "output_path": "__notebook__.ipynb",
   "parameters": {},
   "start_time": "2023-10-08T09:08:09.178778",
   "version": "2.4.0"
  }
 },
 "nbformat": 4,
 "nbformat_minor": 5
}
